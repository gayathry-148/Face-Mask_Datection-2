{
  "nbformat": 4,
  "nbformat_minor": 0,
  "metadata": {
    "colab": {
      "provenance": []
    },
    "kernelspec": {
      "name": "python3",
      "display_name": "Python 3"
    },
    "language_info": {
      "name": "python"
    }
  },
  "cells": [
    {
      "cell_type": "code",
      "execution_count": 1,
      "metadata": {
        "id": "bFOb5QAxNeKN",
        "colab": {
          "base_uri": "https://localhost:8080/"
        },
        "outputId": "da2b56fd-29e2-40f9-8b1e-64a6af128cd0"
      },
      "outputs": [
        {
          "output_type": "stream",
          "name": "stdout",
          "text": [
            "Mounted at /content/drive\n"
          ]
        }
      ],
      "source": [
        "from google.colab import drive\n",
        "drive.mount('/content/drive')"
      ]
    },
    {
      "cell_type": "code",
      "source": [
        "import os\n",
        "import cv2\n",
        "import numpy as np\n",
        "from sklearn.linear_model import LogisticRegression\n",
        "from sklearn.tree import DecisionTreeClassifier\n",
        "from sklearn.svm import SVC\n",
        "from sklearn.neighbors import KNeighborsClassifier\n",
        "from sklearn.ensemble import RandomForestClassifier\n",
        "from sklearn.metrics import accuracy_score, confusion_matrix\n",
        "\n",
        "# Load the image dataset and convert to numpy array\n",
        "DATADIR = \"/content/drive/MyDrive/face detection\"\n",
        "CATEGORIES = [\"with_mask\", \"without_mask\"]\n",
        "\n",
        "# Define image size\n",
        "IMG_SIZE = 100\n",
        "\n",
        "# Function to load and preprocess the images\n",
        "def load_data():\n",
        "    data = []\n",
        "    labels = []\n",
        "    for category in CATEGORIES:\n",
        "        folder = os.path.join(DATADIR, category)\n",
        "        files = os.listdir(folder)[:1500]\n",
        "        for file in files:\n",
        "            img_path = os.path.join(folder, file)\n",
        "            try:\n",
        "                img = cv2.imread(img_path)\n",
        "                img = cv2.cvtColor(img, cv2.COLOR_BGR2GRAY)\n",
        "                img = cv2.resize(img, (IMG_SIZE, IMG_SIZE))\n",
        "                data.append(img)\n",
        "                labels.append(CATEGORIES.index(category))\n",
        "            except Exception as e:\n",
        "                pass\n",
        "    data = np.array(data).reshape(-1, IMG_SIZE * IMG_SIZE)\n",
        "    labels = np.array(labels)\n",
        "    # Shuffle the dataset\n",
        "    shuffle_idx = np.random.permutation(len(data))\n",
        "    data = data[shuffle_idx]\n",
        "    labels = labels[shuffle_idx]\n",
        "    return data, labels\n",
        "\n",
        "# Load the dataset\n",
        "X, y = load_data()\n",
        "\n",
        "# Split the dataset into training and testing sets\n",
        "split_idx = int(0.8 * len(X))\n",
        "X_train, X_test = X[:split_idx], X[split_idx:]\n",
        "y_train, y_test = y[:split_idx], y[split_idx:]\n",
        "\n",
        "# Logistic regression\n",
        "lr = LogisticRegression(max_iter=10000)\n",
        "lr.fit(X_train, y_train)\n",
        "lr_pred = lr.predict(X_test)\n",
        "lr_acc = accuracy_score(y_test, lr_pred)\n",
        "lr_cm = confusion_matrix(y_test, lr_pred)\n",
        "print(\"Logistic Regression Accuracy:\", lr_acc)\n",
        "print(\"Logistic Regression Confusion Matrix:\\n\", lr_cm)\n",
        "\n",
        "# Decision tree\n",
        "dt = DecisionTreeClassifier()\n",
        "dt.fit(X_train, y_train)\n",
        "dt_pred = dt.predict(X_test)\n",
        "dt_acc = accuracy_score(y_test, dt_pred)\n",
        "dt_cm = confusion_matrix(y_test, dt_pred)\n",
        "print(\"Decision Tree Accuracy:\", dt_acc)\n",
        "print(\"Decision Tree Confusion Matrix:\\n\", dt_cm)\n",
        "\n",
        "# Support vector machine\n",
        "svm = SVC()\n",
        "svm.fit(X_train, y_train)\n",
        "svm_pred = svm.predict(X_test)\n",
        "svm_acc = accuracy_score(y_test, svm_pred)\n",
        "svm_cm = confusion_matrix(y_test, svm_pred)\n",
        "print(\"Support Vector Machine Accuracy:\", svm_acc)\n",
        "print(\"Support Vector Machine Confusion Matrix:\\n\", svm_cm)\n",
        "\n",
        "# K-nearest neighbors\n",
        "knn = KNeighborsClassifier(n_neighbors=5)\n",
        "knn.fit(X_train, y_train)\n",
        "knn_pred = knn.predict(X_test)\n",
        "knn_acc = accuracy_score(y_test, knn_pred)\n",
        "knn_cm = confusion_matrix(y_test, knn_pred)\n",
        "print(\"K-Nearest Neighbors Accuracy:\", knn_acc)\n",
        "print(\"K-Nearest Neighbors Confusion Matrix:\\n\", knn_cm)\n",
        "\n",
        "# Random forest\n",
        "rf = RandomForestClassifier()\n",
        "rf.fit(X_train, y_train)\n",
        "rf_pred = rf.predict(X_test)\n",
        "rf_acc = accuracy_score(y_test, rf_pred)\n",
        "rf_cm = confusion_matrix(y_test, rf_pred)\n",
        "print(\"Random Forest Accuracy:\", rf_acc)\n",
        "print(\"Random Forest Confusion Matrix:\\n\", rf_cm)"
      ],
      "metadata": {
        "colab": {
          "base_uri": "https://localhost:8080/"
        },
        "id": "qiMjbhdotnle",
        "outputId": "d3d921de-8047-4c12-9b65-4ba6c0951828"
      },
      "execution_count": 3,
      "outputs": [
        {
          "output_type": "stream",
          "name": "stdout",
          "text": [
            "Logistic Regression Accuracy: 0.72\n",
            "Logistic Regression Confusion Matrix:\n",
            " [[203  99]\n",
            " [ 69 229]]\n",
            "Decision Tree Accuracy: 0.7766666666666666\n",
            "Decision Tree Confusion Matrix:\n",
            " [[233  69]\n",
            " [ 65 233]]\n",
            "Support Vector Machine Accuracy: 0.8716666666666667\n",
            "Support Vector Machine Confusion Matrix:\n",
            " [[257  45]\n",
            " [ 32 266]]\n",
            "K-Nearest Neighbors Accuracy: 0.8133333333333334\n",
            "K-Nearest Neighbors Confusion Matrix:\n",
            " [[213  89]\n",
            " [ 23 275]]\n",
            "Random Forest Accuracy: 0.8633333333333333\n",
            "Random Forest Confusion Matrix:\n",
            " [[257  45]\n",
            " [ 37 261]]\n"
          ]
        }
      ]
    }
  ]
}